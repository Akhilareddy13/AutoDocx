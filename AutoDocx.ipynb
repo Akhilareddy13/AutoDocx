{
 "cells": [
  {
   "cell_type": "code",
   "execution_count": null,
   "id": "69a90360",
   "metadata": {},
   "outputs": [],
   "source": [
    "# importing required modules\n",
    "!pip install --upgrade pip\n",
    "import os\n",
    "from os import listdir\n",
    "!pip install PyPDF2\n",
    "!pip install PyMuPDF\n",
    "\n",
    "!pip install fpdf\n",
    "from fpdf import FPDF\n",
    "from PyPDF2 import PdfReader\n",
    "!pip install pdf2img\n",
    "from PIL import Image\n",
    "import glob\n",
    "from PyPDF2 import PdfMerger\n"
   ]
  },
  {
   "cell_type": "markdown",
   "id": "4ab7c9f0",
   "metadata": {},
   "source": [
    "### Setting up the directory path for PDF file downloads using Python's os module"
   ]
  },
  {
   "cell_type": "code",
   "execution_count": null,
   "id": "d3104663",
   "metadata": {},
   "outputs": [],
   "source": [
    "\n",
    "dir_path = r'C:\\Users\\akhil\\OneDrive\\Desktop\\Aut'\n",
    "\n",
    "if os.path.exists(dir_path):\n",
    "    os.chdir(dir_path)\n",
    "    print(f'Changed working directory to {dir_path}')\n",
    "else:\n",
    "    print(f'Directory {dir_path} does not exist')"
   ]
  },
  {
   "cell_type": "markdown",
   "id": "dacd4416",
   "metadata": {},
   "source": [
    "### First let us extract Lumen and replace it with Brightspeed using docx file in the content of the document"
   ]
  },
  {
   "cell_type": "code",
   "execution_count": null,
   "id": "0c31a428",
   "metadata": {},
   "outputs": [],
   "source": [
    "!pip install python-docx"
   ]
  },
  {
   "cell_type": "code",
   "execution_count": null,
   "id": "66bcdbf9",
   "metadata": {},
   "outputs": [],
   "source": [
    "import re\n",
    "from docx import Document\n",
    "from docx.enum.text import WD_PARAGRAPH_ALIGNMENT\n",
    "from docx2pdf import convert\n",
    "\n",
    "def grep_and_replace(file_path, word_dict):\n",
    "    doc = Document(file_path)\n",
    "\n",
    "    for table in doc.tables:\n",
    "        for row in table.rows:\n",
    "            for cell in row.cells:\n",
    "                for key, value in word_dict.items():\n",
    "                    for paragraph in cell.paragraphs:\n",
    "                        text = paragraph.text\n",
    "                        replaced_text = re.sub(r'\\b{}\\b'.format(re.escape(key)), value, text, flags=re.IGNORECASE)\n",
    "                        if replaced_text != text:\n",
    "                            paragraph.text = replaced_text\n",
    "                            paragraph.alignment = WD_PARAGRAPH_ALIGNMENT.LEFT\n",
    "\n",
    "    doc.save(\"file.docx\")\n",
    "   \n",
    "\n",
    "    #Example usage\n",
    "file_path = r\"C:\\Users\\akhil\\OneDrive\\Desktop\\Aut\\input.docx\"\n",
    "word_dict = {\n",
    "    \"Lumen\": \"Brightspeed\",\n",
    "    \"Lumen Technologies\": \"Brightspeed technologies\",\n",
    "    \"Lumen Company Entity\": \"Brightspeed Company Entity\"\n",
    "}\n",
    "\n",
    "grep_and_replace(file_path, word_dict)\n"
   ]
  },
  {
   "cell_type": "markdown",
   "id": "533beace",
   "metadata": {},
   "source": [
    "### Replacing Lumen with brightspeed in footer section of the document"
   ]
  },
  {
   "cell_type": "code",
   "execution_count": null,
   "id": "b8abad2f",
   "metadata": {},
   "outputs": [],
   "source": [
    "from docx import Document\n",
    "from docx.enum.text import WD_PARAGRAPH_ALIGNMENT\n",
    "from docx.shared import Pt\n",
    "\n",
    "def change_footer_text(file_path, old_text, new_text, font_name='Arial', font_size=12):\n",
    "    doc = Document(file_path)\n",
    "\n",
    "    for section in doc.sections:\n",
    "        footer = section.footer\n",
    "\n",
    "        for table in footer.tables:\n",
    "            for row in table.rows:\n",
    "                for cell in row.cells:\n",
    "                    for paragraph in cell.paragraphs:\n",
    "                        if old_text in paragraph.text:\n",
    "                            paragraph.text = paragraph.text.replace(old_text, new_text)\n",
    "                            for run in paragraph.runs:\n",
    "                                run.font.name = font_name\n",
    "                                run.font.size = Pt(font_size)\n",
    "                            paragraph.alignment = WD_PARAGRAPH_ALIGNMENT.CENTER\n",
    "\n",
    "    doc.save(file_path)\n",
    "\n",
    "# Usage example\n",
    "file_path = 'file.docx'\n",
    "old_text = 'Lumen Trade Secret Confidential Use Only'\n",
    "new_text = 'Brightspeed Trade Secret Confidential Use Only '\n",
    "font_name = 'Arial Bold'\n",
    "font_size =  10\n",
    "\n",
    "change_footer_text(file_path, old_text, new_text, font_name, font_size)\n"
   ]
  },
  {
   "cell_type": "code",
   "execution_count": null,
   "id": "b9d06e8d",
   "metadata": {},
   "outputs": [],
   "source": [
    "from docx import Document\n",
    "from docx.enum.text import WD_PARAGRAPH_ALIGNMENT\n",
    "from docx.shared import Pt\n",
    "\n",
    "def change_footer_text(file_path, old_text, new_text, font_name='Arial', font_size=12):\n",
    "    doc = Document(file_path)\n",
    "\n",
    "    for section in doc.sections:\n",
    "        footer = section.footer\n",
    "\n",
    "        for table in footer.tables:\n",
    "            for row in table.rows:\n",
    "                for cell in row.cells:\n",
    "                    for paragraph in cell.paragraphs:\n",
    "                        if old_text in paragraph.text:\n",
    "                            paragraph.text = paragraph.text.replace(old_text, new_text)\n",
    "                            for run in paragraph.runs:\n",
    "                                run.font.name = font_name\n",
    "                                run.font.size = Pt(font_size)\n",
    "                            paragraph.alignment = WD_PARAGRAPH_ALIGNMENT.CENTER\n",
    "\n",
    "    doc.save(file_path)\n",
    "\n",
    "# Usage example\n",
    "file_path = 'file.docx'\n",
    "old_text = 'Lumen employees and authorized persons working '\n",
    "new_text = 'Brightspeed employees and authorized persons working '\n",
    "font_name = 'Arial Italic'\n",
    "font_size =  7\n",
    "\n",
    "change_footer_text(file_path, old_text, new_text, font_name, font_size)\n",
    "\n",
    "\n"
   ]
  },
  {
   "cell_type": "code",
   "execution_count": null,
   "id": "31d1cfb1",
   "metadata": {},
   "outputs": [],
   "source": []
  },
  {
   "cell_type": "code",
   "execution_count": null,
   "id": "6ad03cf6",
   "metadata": {},
   "outputs": [],
   "source": [
    "from docx import Document\n",
    "\n",
    "def delete_header(file_path):\n",
    "    doc = Document(file_path)\n",
    "\n",
    "    # Remove the content of the primary header\n",
    "    for section in doc.sections:\n",
    "        header = section.header\n",
    "        for paragraph in header.paragraphs:\n",
    "            for run in paragraph.runs:\n",
    "                run.text = \"\"\n",
    "\n",
    "    # Save the modified document\n",
    "    doc.save(file_path)\n",
    "\n",
    "    print(\"Existing header deleted.\")\n",
    "\n",
    "# Usage example\n",
    "file_path = r'C:\\Users\\akhil\\OneDrive\\Desktop\\Aut\\file.docx'\n",
    "delete_header(file_path)\n",
    "\n"
   ]
  },
  {
   "cell_type": "code",
   "execution_count": null,
   "id": "e3f4c4c6",
   "metadata": {},
   "outputs": [],
   "source": [
    "from docx import Document\n",
    "from docx.shared import Inches\n",
    "\n",
    "def replace_image_first_page(file_path, new_image_path):\n",
    "    doc = Document(file_path)\n",
    "\n",
    "    # Find the first table on the first page\n",
    "    table = doc.sections[0].header.tables[0]\n",
    "\n",
    "\n",
    "    # Add the new image to the table\n",
    "    cell = table.cell(0, 2)  # The image position \n",
    "    paragraph = cell.paragraphs[0]\n",
    "    run = paragraph.add_run()\n",
    "    run.add_picture(new_image_path, width=Inches(2.3))  # Adjust the width as needed\n",
    "    # Set the alignment of the image to center\n",
    "    paragraph.alignment = 1 \n",
    "    doc.save(file_path)\n",
    "\n",
    "# Usage example\n",
    "file_path = r'C:\\Users\\akhil\\OneDrive\\Desktop\\Aut\\file.docx'\n",
    "new_image_path = 'C:\\\\Users\\\\akhil\\\\OneDrive\\\\Desktop\\\\Aut\\\\bs_logo.png'\n",
    "\n",
    "replace_image_first_page(file_path, new_image_path)\n",
    "\n",
    "\n",
    "\n"
   ]
  },
  {
   "cell_type": "markdown",
   "id": "b886ebeb",
   "metadata": {},
   "source": [
    "### Deleting the content of the coverpage and replacing the same text and image of brightspeed in the coverpage"
   ]
  },
  {
   "cell_type": "code",
   "execution_count": null,
   "id": "eff861f2",
   "metadata": {},
   "outputs": [],
   "source": [
    "from docx import Document\n",
    "from docx.shared import Pt\n",
    "from docx.enum.text import WD_PARAGRAPH_ALIGNMENT\n",
    "from docx.shared import Inches\n",
    "\n",
    "def insert_text_and_image_in_table_cell(file_path, text1, text2, image_path, font_name='Arial Bold', font_size=28,\n",
    "                                       line_spacing2=1.5, line_spacing3=2.5):\n",
    "    doc = Document(file_path)\n",
    "\n",
    "    # Get the first table on the first page\n",
    "    table = doc.tables[0]\n",
    "\n",
    "    # Get the first cell of the table\n",
    "    cell = table.cell(0, 0)\n",
    "\n",
    "    # Clear the existing content in the cell\n",
    "    for paragraph in cell.paragraphs:\n",
    "        for run in paragraph.runs:\n",
    "            paragraph._p.remove(run._r)\n",
    "\n",
    "    # Insert text1\n",
    "    p1 = cell.add_paragraph()\n",
    "    run1 = p1.add_run(text1)\n",
    "    run1.font.name = font_name\n",
    "    run1.font.size = font_size\n",
    "    p1.alignment = WD_PARAGRAPH_ALIGNMENT.CENTER\n",
    "\n",
    "    # Insert text2\n",
    "    p2 = cell.add_paragraph()\n",
    "    p2.paragraph_format.line_spacing = line_spacing2\n",
    "    run2 = p2.add_run(text2)\n",
    "    run2.font.name = font_name\n",
    "    run2.font.size = font_size\n",
    "    p2.alignment = WD_PARAGRAPH_ALIGNMENT.CENTER\n",
    "\n",
    "    # Insert the image\n",
    "    p3 = cell.add_paragraph()\n",
    "    p3.paragraph_format.line_spacing = line_spacing3\n",
    "    run3 = p3.add_run()\n",
    "    run3.add_picture(image_path, width=Inches(4))\n",
    "    p3.alignment = WD_PARAGRAPH_ALIGNMENT.CENTER\n",
    "\n",
    "    doc.save(file_path)\n",
    "\n",
    "\n",
    "# Usage example\n",
    "file_path = r'C:\\Users\\akhil\\OneDrive\\Desktop\\Aut\\file.docx'\n",
    "text1 = \"Configuration Guide Document\"\n",
    "text2 = \"C-DCPGRDW\"\n",
    "image_path = 'C:\\\\Users\\\\akhil\\\\OneDrive\\\\Desktop\\\\Aut\\\\bs_logo.png'\n",
    "font_name = 'Arial Bold'\n",
    "font_size = Pt(28)\n",
    "line_spacing2 = 2.5  # Adjust the value to control the spacing of the second line\n",
    "line_spacing3 = 3.5  # Adjust the value to control the spacing before the image\n",
    "\n",
    "insert_text_and_image_in_table_cell(file_path, text1, text2, image_path, font_name, font_size, line_spacing2,\n",
    "                                    line_spacing3)\n"
   ]
  },
  {
   "cell_type": "markdown",
   "id": "719ffd5d",
   "metadata": {},
   "source": [
    "### Converting the DOCX document to PDF"
   ]
  },
  {
   "cell_type": "code",
   "execution_count": null,
   "id": "7fdc9a56",
   "metadata": {},
   "outputs": [],
   "source": [
    " \n",
    "    convert(\"file.docx\", \"file.pdf\")\n"
   ]
  },
  {
   "cell_type": "code",
   "execution_count": null,
   "id": "db7fe452",
   "metadata": {},
   "outputs": [],
   "source": []
  },
  {
   "cell_type": "code",
   "execution_count": null,
   "id": "c8922899",
   "metadata": {},
   "outputs": [],
   "source": []
  },
  {
   "cell_type": "code",
   "execution_count": null,
   "id": "05e661ff",
   "metadata": {},
   "outputs": [],
   "source": []
  },
  {
   "cell_type": "code",
   "execution_count": null,
   "id": "e5a87787",
   "metadata": {},
   "outputs": [],
   "source": []
  },
  {
   "cell_type": "code",
   "execution_count": null,
   "id": "2db42257",
   "metadata": {},
   "outputs": [],
   "source": []
  }
 ],
 "metadata": {
  "kernelspec": {
   "display_name": "Python 3 (ipykernel)",
   "language": "python",
   "name": "python3"
  },
  "language_info": {
   "codemirror_mode": {
    "name": "ipython",
    "version": 3
   },
   "file_extension": ".py",
   "mimetype": "text/x-python",
   "name": "python",
   "nbconvert_exporter": "python",
   "pygments_lexer": "ipython3",
   "version": "3.10.9"
  }
 },
 "nbformat": 4,
 "nbformat_minor": 5
}
